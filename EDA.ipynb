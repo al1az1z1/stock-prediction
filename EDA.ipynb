{
 "cells": [
  {
   "cell_type": "code",
   "execution_count": null,
   "id": "0",
   "metadata": {},
   "outputs": [],
   "source": [
    "import pandas as pd\n",
    "import matplotlib.pyplot as plt\n",
    "import seaborn as sns\n",
    "\n",
    "#import datasets\n",
    "import_base_path = \"/Users/jackkim4/Documents/Compliace:Talent/MSAAI/AAI501\"\n",
    "model_1_path = f\"{import_base_path}/model1_data_AAPL.csv\"\n",
    "model_2_path = f\"{import_base_path}/model2_data_all_companies.csv\"\n",
    "model_1_data = pd.read_csv(model_1_path)\n",
    "model_2_data = pd.read_csv(model_2_path)\n",
    "\n",
    "# Convert 'date' to datetime format\n",
    "model_1_data['date'] = pd.to_datetime(model_1_data['date'])\n",
    "model_2_data['date'] = pd.to_datetime(model_2_data['date'])\n",
    "\n",
    "# Summary Statistics\n",
    "print(\"AAPL Summary:\\n\", model_1_data[['open', 'close', 'volume']].describe())\n",
    "print(\"\\nIT Companies Summary:\\n\", model_2_data[['open', 'close', 'volume']].describe())"
   ]
  },
  {
   "cell_type": "code",
   "execution_count": null,
   "id": "1",
   "metadata": {},
   "outputs": [],
   "source": [
    "# Price Distribution\n",
    "plt.figure(figsize=(12, 5))\n",
    "sns.histplot(model_1_data['close'], bins=50, label='AAPL', kde=True, color='blue')\n",
    "sns.histplot(model_2_data['close'], bins=50, label='IT Companies', kde=True, color='red', alpha=0.6)\n",
    "plt.xlabel(\"Closing Price\")\n",
    "plt.ylabel(\"Frequency\")\n",
    "plt.title(\"Distribution of Closing Prices\")\n",
    "plt.legend()\n",
    "plt.show()\n",
    "\n",
    "# Volume Distribution\n",
    "plt.figure(figsize=(12, 5))\n",
    "sns.histplot(model_1_data['volume'], bins=50, label='AAPL', kde=True, color='blue')\n",
    "sns.histplot(model_2_data['volume'], bins=50, label='IT Companies', kde=True, color='red', alpha=0.6)\n",
    "plt.xlabel(\"Trading Volume\")\n",
    "plt.ylabel(\"Frequency\")\n",
    "plt.title(\"Distribution of Trading Volume\")\n",
    "plt.legend()\n",
    "plt.show()"
   ]
  },
  {
   "cell_type": "code",
   "execution_count": null,
   "id": "2",
   "metadata": {},
   "outputs": [],
   "source": [
    "# Time-Series Plot of Closing Prices\n",
    "plt.figure(figsize=(12, 6))\n",
    "sns.lineplot(x=model_1_data['date'], y=model_1_data['close'], label='AAPL', color='blue')\n",
    "sns.lineplot(data=model_2_data, x='date', y='close', hue='symbol', alpha=0.8)\n",
    "plt.xlabel(\"Date\")\n",
    "plt.ylabel(\"Closing Price\")\n",
    "plt.title(\"Stock Price Trends Over Time\")\n",
    "plt.legend()\n",
    "plt.xticks(rotation=45)\n",
    "plt.show()\n",
    "\n",
    "# Time-Series Plot of Trading Volume\n",
    "plt.figure(figsize=(12, 6))\n",
    "sns.lineplot(x=model_1_data['date'], y=model_1_data['volume'], label='AAPL', color='blue')\n",
    "sns.lineplot(data=model_2_data, x='date', y='volume', hue='symbol', alpha=0.8)\n",
    "plt.xlabel(\"Date\")\n",
    "plt.ylabel(\"Trading Volume\")\n",
    "plt.title(\"Trading Volume Trends Over Time\")\n",
    "plt.legend()\n",
    "plt.xticks(rotation=45)\n",
    "plt.show()"
   ]
  },
  {
   "cell_type": "code",
   "execution_count": null,
   "id": "3",
   "metadata": {},
   "outputs": [],
   "source": [
    "# Correlation Matrix and Headtmap\n",
    "pivot_data = model_2_data.pivot(index='date', columns='symbol', values='close')\n",
    "correlation_matrix = pivot_data.corr()\n",
    "plt.figure(figsize=(10, 6))\n",
    "sns.heatmap(correlation_matrix, annot=True, fmt=\".2f\")\n",
    "plt.title(\"Correlation Matrix of Stock Closing Prices\")\n",
    "plt.show()"
   ]
  },
  {
   "cell_type": "code",
   "execution_count": null,
   "id": "4",
   "metadata": {},
   "outputs": [],
   "source": []
  }
 ],
 "metadata": {
  "kernelspec": {
   "display_name": "Python [conda env:base] *",
   "language": "python",
   "name": "conda-base-py"
  },
  "language_info": {
   "codemirror_mode": {
    "name": "ipython",
    "version": 3
   },
   "file_extension": ".py",
   "mimetype": "text/x-python",
   "name": "python",
   "nbconvert_exporter": "python",
   "pygments_lexer": "ipython3",
   "version": "3.12.7"
  }
 },
 "nbformat": 4,
 "nbformat_minor": 5
}
