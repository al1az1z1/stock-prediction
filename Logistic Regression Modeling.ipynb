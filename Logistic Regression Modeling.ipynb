{
 "cells": [
  {
   "cell_type": "code",
   "execution_count": null,
   "id": "d003bb07-0a16-4dfc-b8b6-8fd61e355c96",
   "metadata": {},
   "outputs": [],
   "source": [
    "from sklearn.preprocessing import StandardScaler\n",
    "from sklearn.linear_model import LogisticRegression\n",
    "from sklearn.metrics import accuracy_score, classification_report\n",
    "\n",
    "# Model 1: AAPL only\n",
    "scaler1 = StandardScaler()\n",
    "x_train_1_scaled = scaler1.fit_transform(x__train_1)\n",
    "x_test_1_scaled = scaler1.transform(x__test_1)\n",
    "\n",
    "clf1 = LogisticRegression(max_iter=1000)\n",
    "clf1.fit(x_train_1_scaled, y__train_1)\n",
    "y_prediction_1 = clf1.predict(x_test_1_scaled)\n",
    "\n",
    "print(accuracy_score(y__test_1, y_prediction_1))\n",
    "print(classification_report(y__test_1, y_prediction_1))\n",
    "\n",
    "\n",
    "# Model 2: 10 IT sector companies\n",
    "scaler2 = StandardScaler()\n",
    "x_train_2_scaled = scaler2.fit_transform(x__train_2)\n",
    "x_test_2_scaled = scaler2.transform(x__test_2)\n",
    "\n",
    "clf2 = LogisticRegression(max_iter=1000)\n",
    "clf2.fit(x_train_2_scaled, y__train_2)\n",
    "y_prediction_2 = clf2.predict(x_test_2_scaled)\n",
    "\n",
    "print(accuracy_score(y__test_2, y_prediction_2))\n",
    "print(classification_report(y__test_2, y_prediction_2))"
   ]
  }
 ],
 "metadata": {
  "kernelspec": {
   "display_name": "Python [conda env:base] *",
   "language": "python",
   "name": "conda-base-py"
  },
  "language_info": {
   "codemirror_mode": {
    "name": "ipython",
    "version": 3
   },
   "file_extension": ".py",
   "mimetype": "text/x-python",
   "name": "python",
   "nbconvert_exporter": "python",
   "pygments_lexer": "ipython3",
   "version": "3.12.7"
  }
 },
 "nbformat": 4,
 "nbformat_minor": 5
}
