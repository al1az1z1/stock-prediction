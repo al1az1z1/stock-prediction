{
 "cells": [
  {
   "cell_type": "code",
   "execution_count": null,
   "id": "0",
   "metadata": {},
   "outputs": [],
   "source": [
    "import pandas as pd\n",
    "prices_df = pd.read_csv(\"/Users/jackkim4/Documents/Compliace:Talent/MSAAI/AAI501/prices-split-adjusted.csv\")\n",
    "securities_df = pd.read_csv(\"/Users/jackkim4/Documents/Compliace:Talent/MSAAI/AAI501/securities.csv\")\n",
    "\n",
    "prices_df.head(), securities_df.head()\n",
    "\n",
    "# Filter IT sector companies\n",
    "it_companies = securities_df[securities_df['GICS Sector'] == 'Information Technology']\n",
    "\n",
    "# Select 10 companies, including AAPL\n",
    "selected_companies = ['AAPL', 'MSFT', 'ORCL', 'IBM', 'INTC', 'CSCO', 'HPQ', 'ADBE', 'NVDA', 'TXN']\n",
    "print(f\"Selected Companies: {', '.join(selected_companies)}\")\n",
    "\n",
    "filtered_prices = prices_df[prices_df['symbol'].isin(selected_companies)].copy()\n",
    "\n",
    "# Convert 'date' column to datetime format\n",
    "filtered_prices['date'] = pd.to_datetime(filtered_prices['date'])\n",
    "\n",
    "# Sort data by 'symbol' and 'date'\n",
    "filtered_prices = filtered_prices.sort_values(by=['symbol', 'date'])\n",
    "\n",
    "# Drop missing values and duplicates\n",
    "filtered_prices = filtered_prices.dropna().drop_duplicates()\n",
    "\n",
    "# Keep necessary columns\n",
    "filtered_prices = filtered_prices[['date', 'symbol', 'open', 'close', 'volume']]\n",
    "\n",
    "filtered_prices.to_csv(\"/Users/jackkim4/Documents/Compliace:Talent/MSAAI/AAI501/processed_prices.csv\", index=False)\n",
    "\n",
    "# Model 1: Only AAPL\n",
    "model_1_data = filtered_prices[filtered_prices['symbol'] == 'AAPL']\n",
    "\n",
    "# Model 2: AAPL + 9 other companies\n",
    "model_2_data = filtered_prices\n",
    "\n",
    "# Save the datasets\n",
    "output_base_path = \"/Users/jackkim4/Documents/Compliace:Talent/MSAAI/AAI501\"\n",
    "model1_path = f\"{output_base_path}/model1_data_AAPL.csv\"\n",
    "model2_path = f\"{output_base_path}/model2_data_all_companies.csv\"\n",
    "model_1_data.to_csv(model1_path, index=False)\n",
    "model_2_data.to_csv(model2_path, index=False)\n",
    "print(f\"Saved Model 1 data to {model1_path}\")\n",
    "print(f\"Saved Model 2 data to {model2_path}\")"
   ]
  }
 ],
 "metadata": {
  "kernelspec": {
   "display_name": "Python [conda env:base] *",
   "language": "python",
   "name": "conda-base-py"
  },
  "language_info": {
   "codemirror_mode": {
    "name": "ipython",
    "version": 3
   },
   "file_extension": ".py",
   "mimetype": "text/x-python",
   "name": "python",
   "nbconvert_exporter": "python",
   "pygments_lexer": "ipython3",
   "version": "3.12.7"
  }
 },
 "nbformat": 4,
 "nbformat_minor": 5
}
