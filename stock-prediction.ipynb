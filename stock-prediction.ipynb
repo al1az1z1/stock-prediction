{
 "cells": [
  {
   "cell_type": "markdown",
   "metadata": {},
   "source": [
    "## Libraries Used"
   ]
  },
  {
   "cell_type": "code",
   "execution_count": null,
   "metadata": {},
   "outputs": [],
   "source": [
    "# System / OS Handling (Standard Library)\n",
    "import os\n",
    "\n",
    "# Data Handling\n",
    "import pandas as pd\n",
    "\n",
    "# Visualization\n",
    "import matplotlib.pyplot as plt\n",
    "import seaborn as sns\n",
    "\n",
    "# Machine Learning\n",
    "from sklearn.preprocessing import StandardScaler\n",
    "from sklearn.linear_model import LogisticRegression\n",
    "\n",
    "# Model Evaluation\n",
    "from sklearn.metrics import (\n",
    "    accuracy_score, \n",
    "    precision_score,\n",
    "    recall_score,\n",
    "    f1_score,\n",
    "    classification_report, \n",
    "    confusion_matrix, \n",
    "    ConfusionMatrixDisplay,\n",
    "    roc_curve,\n",
    "    roc_auc_score\n",
    ")\n",
    "\n",
    "# Display Formatting\n",
    "from IPython.display import display, HTML\n"
   ]
  },
  {
   "cell_type": "markdown",
   "metadata": {},
   "source": [
    "## Dataset extraction and organization\n",
    "### Load and combine all datasets\n",
    "### Data Cleaning and Preparation\n"
   ]
  },
  {
   "cell_type": "code",
   "execution_count": null,
   "metadata": {},
   "outputs": [],
   "source": [
    "# Ensure data folder exists\n",
    "os.makedirs(\"data\", exist_ok=True)\n",
    "\n",
    "# Load datasets\n",
    "prices_df = pd.read_csv(\"data/prices-split-adjusted.csv\")\n",
    "securities_df = pd.read_csv(\"data/securities.csv\")\n",
    "\n",
    "# Display first few rows (optional in scripts, great for notebooks)\n",
    "prices_df.head(), securities_df.head()\n",
    "\n",
    "# Filter IT sector companies\n",
    "it_companies = securities_df[securities_df['GICS Sector'] == 'Information Technology']\n",
    "\n",
    "# Select 10 companies (including AAPL)\n",
    "selected_companies = ['AAPL', 'MSFT', 'ORCL', 'IBM', 'INTC', 'CSCO', 'HPQ', 'ADBE', 'NVDA', 'TXN']\n",
    "print(f\"Selected Companies: {', '.join(selected_companies)}\")\n",
    "\n",
    "# Filter prices\n",
    "# Keeping only rows for the selected IT sector companies from the full price dataset.\n",
    "filtered_prices = prices_df[prices_df['symbol'].isin(selected_companies)].copy()\n",
    "\n",
    "# Converting the 'date' column from string format to datetime objects.\n",
    "filtered_prices['date'] = pd.to_datetime(filtered_prices['date'])\n",
    "\n",
    "# Sorting the data by 'symbol' and 'date' to ensure proper chronological order within each stock.\n",
    "filtered_prices = filtered_prices.sort_values(by=['symbol', 'date'])\n",
    "\n",
    "# Checking how many fully duplicated rows are in the dataset\n",
    "print(\"Number of duplicated rows:\", filtered_prices.duplicated().sum())\n",
    "\n",
    "# Dropping rows with missing values and duplicates.\n",
    "filtered_prices = filtered_prices.dropna().drop_duplicates()\n",
    "\n",
    "# Keeping only the necessary columns\n",
    "filtered_prices = filtered_prices[['date', 'symbol', 'open', 'close', 'volume']]\n",
    "\n",
    "# Assigning the cleaned and filtered dataset to a new variable 'df' for convenience.\n",
    "df= filtered_prices\n",
    "\n",
    "# Displaying the first few rows of the dataset to visually inspect the structure and confirm the data looks correct.\n",
    "print(\"=====================================================\")\n",
    "print(\"Preview of cleaned dataset:\")\n",
    "display(df.head())\n",
    "\n",
    "\n",
    "# Generating a statistical summary of the dataset's numerical columns.\n",
    "print(\"=====================================================\")\n",
    "print(\"Statistical summary of the dataset:\")\n",
    "df.describe()\n",
    "\n",
    "\n",
    "\n",
    "\n",
    "\n"
   ]
  },
  {
   "cell_type": "markdown",
   "metadata": {},
   "source": [
    "## Exploratory Data Analysis After feature engineering\n"
   ]
  },
  {
   "cell_type": "markdown",
   "metadata": {},
   "source": [
    "### Distribution Comparison of Closing Prices and Trading Volumes (AAPL vs. IT Sector)"
   ]
  },
  {
   "cell_type": "code",
   "execution_count": null,
   "metadata": {},
   "outputs": [],
   "source": [
    "# Filter Model 1 (AAPL only) and Model 2 (all IT companies)\n",
    "model_1_data = df[df['symbol'] == 'AAPL']\n",
    "model_2_data = df  # already contains all 10 companies\n",
    "\n",
    "# ---- Closing Price Distribution ----\n",
    "plt.figure(figsize=(12, 5))\n",
    "sns.histplot(model_1_data['close'], bins=50, label='AAPL', kde=True, color='blue')\n",
    "sns.histplot(model_2_data['close'], bins=50, label='All IT Companies', kde=True, color='red', alpha=0.5)\n",
    "plt.xlabel(\"Closing Price\")\n",
    "plt.ylabel(\"Frequency\")\n",
    "plt.title(\"Distribution of Closing Prices (AAPL vs IT Sector)\")\n",
    "plt.legend()\n",
    "plt.show()\n",
    "\n",
    "# ---- Trading Volume Distribution ----\n",
    "plt.figure(figsize=(12, 5))\n",
    "sns.histplot(model_1_data['volume'], bins=50, label='AAPL', kde=True, color='blue')\n",
    "sns.histplot(model_2_data['volume'], bins=50, label='All IT Companies', kde=True, color='red', alpha=0.5)\n",
    "plt.xlabel(\"Trading Volume\")\n",
    "plt.ylabel(\"Frequency\")\n",
    "plt.title(\"Distribution of Trading Volume (AAPL vs IT Sector)\")\n",
    "plt.legend()\n",
    "plt.show()\n"
   ]
  },
  {
   "cell_type": "markdown",
   "metadata": {},
   "source": [
    "### Closing Price Trends Over Time (AAPL vs IT Sector)\n"
   ]
  },
  {
   "cell_type": "code",
   "execution_count": null,
   "metadata": {},
   "outputs": [],
   "source": [
    "plt.figure(figsize=(12, 6))\n",
    "\n",
    "# AAPL only\n",
    "sns.lineplot(data=model_1_data, x='date', y='close', label='AAPL', color='blue')\n",
    "\n",
    "# All other IT companies (excluding AAPL to avoid duplicate line)\n",
    "other_companies = model_2_data[model_2_data['symbol'] != 'AAPL']\n",
    "sns.lineplot(data=other_companies, x='date', y='close', hue='symbol', alpha=0.6)\n",
    "\n",
    "plt.xlabel(\"Date\")\n",
    "plt.ylabel(\"Closing Price\")\n",
    "plt.title(\"Stock Price Trends Over Time (AAPL vs IT Sector)\")\n",
    "plt.xticks(rotation=45)\n",
    "plt.legend()\n",
    "plt.tight_layout()\n",
    "plt.legend(loc='upper left', bbox_to_anchor=(1, 1))\n",
    "plt.show()\n"
   ]
  },
  {
   "cell_type": "markdown",
   "metadata": {},
   "source": [
    "### Trading Volume Trends Over Time (AAPL vs IT Sector)\n"
   ]
  },
  {
   "cell_type": "code",
   "execution_count": null,
   "metadata": {},
   "outputs": [],
   "source": [
    "plt.figure(figsize=(12, 6))\n",
    "\n",
    "# AAPL volume\n",
    "sns.lineplot(data=model_1_data, x='date', y='volume', label='AAPL', color='blue')\n",
    "\n",
    "# Volume for other IT companies\n",
    "sns.lineplot(data=other_companies, x='date', y='volume', hue='symbol', alpha=0.6)\n",
    "\n",
    "plt.xlabel(\"Date\")\n",
    "plt.ylabel(\"Trading Volume\")\n",
    "plt.title(\"Trading Volume Trends Over Time (AAPL vs IT Sector)\")\n",
    "plt.xticks(rotation=45)\n",
    "plt.legend()\n",
    "plt.tight_layout()\n",
    "plt.show()\n"
   ]
  },
  {
   "cell_type": "markdown",
   "metadata": {},
   "source": [
    "### Heatmap of Pairwise Correlations Between Stock Closing Prices (IT Sector)"
   ]
  },
  {
   "cell_type": "code",
   "execution_count": null,
   "metadata": {},
   "outputs": [],
   "source": [
    "# Pivot the data: each column is one company, rows are dates, values are closing prices\n",
    "pivot_data = df.pivot(index='date', columns='symbol', values='close')\n",
    "\n",
    "# Compute correlation matrix between the companies\n",
    "correlation_matrix = pivot_data.corr()\n",
    "\n",
    "# Plot the heatmap\n",
    "plt.figure(figsize=(10, 6))\n",
    "sns.heatmap(correlation_matrix, annot=True, fmt=\".2f\", cmap=\"coolwarm\", center=0)\n",
    "plt.title(\"Correlation Matrix of Stock Closing Prices (IT Sector)\")\n",
    "plt.tight_layout()\n",
    "plt.show()"
   ]
  },
  {
   "cell_type": "markdown",
   "metadata": {},
   "source": [
    "### Target Variable Distribution: Price Increase vs. No Increase\n"
   ]
  },
  {
   "cell_type": "markdown",
   "metadata": {},
   "source": [
    "### AAPL Closing Price vs. 10-Day Rolling Average"
   ]
  },
  {
   "cell_type": "markdown",
   "metadata": {},
   "source": [
    "## Feature Engineering"
   ]
  },
  {
   "cell_type": "code",
   "execution_count": null,
   "metadata": {},
   "outputs": [],
   "source": [
    "# We initialy decided to drop two companies — IBM and HPQ — since they showed negative correlations, but the results were not significant.\n",
    "# Exclude IBM and HPQ\n",
    "# df = df[~df['symbol'].isin(['IBM', 'HPQ'])]\n",
    "\n",
    "#Sorting data by company and date( we did it in preprocessing, bbut just to be sure since it is a crucial step)\n",
    "df= df.sort_values(by=['symbol', 'date'])\n",
    "\n",
    "# Creating a daily return feature\n",
    "df['daily_change'] = (df['close'] - df['open']) / df['open'] # measuring the percentage change in the stock price daily for each index\n",
    "\n",
    "# creating the volum change feature relative to previous day\n",
    "df['volume_change'] = df.groupby('symbol')['volume'].diff() # Measuring how the volume changed from the previous day.\n",
    "\n",
    "# Creating a rolling average of the closing price over the past 10 days\n",
    "df['rolling_close_mean'] = df.groupby('symbol')['close'].transform(lambda x: x.rolling(window=10).mean()) # Each row gets a new value, the 10-day average at that row.\n",
    "\n",
    "# creaing a rolling average of the volume over the past 10 days\n",
    "df['rolling_volume_mean'] = df.groupby('symbol')['volume'].transform(lambda x: x.rolling(window=10).mean()) # Each row gets a new value, the 10-day average at that row.\n",
    "\n",
    "# creating the target variable binary to see the next day's price is higher than today's price or not\n",
    "df['next_close'] = df.groupby('symbol')['close'].shift(-1) \n",
    "df['target'] = (df['next_close'] > df['close']).astype(int) # if row['next_close'] > row['close']: return 1 else: return 0\n",
    "\n",
    "# Dropping rows with missing values caused by rolling or shifting operations\n",
    "df = df.dropna() # first 9 rows becuase of roling windows and the last because of shifting operations\n",
    "\n",
    "# Checking the final result\n",
    "display(df[[ 'daily_change', 'volume_change', 'rolling_close_mean', 'rolling_volume_mean', 'target']].head())\n",
    "\n",
    "\n",
    "\n"
   ]
  },
  {
   "cell_type": "markdown",
   "metadata": {},
   "source": [
    "### EDA Feature Engineering"
   ]
  },
  {
   "cell_type": "markdown",
   "metadata": {},
   "source": [
    "##### Rolling Volume vs. Raw Volume for 1 Company"
   ]
  },
  {
   "cell_type": "code",
   "execution_count": null,
   "metadata": {},
   "outputs": [],
   "source": [
    "#Comparing the trend of the volume of AAPL stock with its 10-day rolling volume mean\n",
    "sample = df[df['symbol'] == 'AAPL'].set_index('date') # selecting the data for AAPL stock\n",
    "\n",
    "# size of the plot\n",
    "plt.figure(figsize=(12, 6))\n",
    "\n",
    "# Plotting the 'volume' and 'rolling_volume_mean' columns\n",
    "plt.plot(sample['volume'], label='Volume')\n",
    "plt.plot(sample['rolling_volume_mean'], label='10-Day Rolling Average')\n",
    "\n",
    "# Adding a title and labels\n",
    "plt.title('AAPL Volume vs 10-Day Rolling Volume')\n",
    "plt.ylabel('Volume')\n",
    "\n",
    "# Adding a grid and legend\n",
    "plt.grid(True)\n",
    "plt.legend()\n",
    "\n",
    "plt.show()\n"
   ]
  },
  {
   "cell_type": "markdown",
   "metadata": {},
   "source": [
    "## Train-Test Split"
   ]
  },
  {
   "cell_type": "code",
   "execution_count": null,
   "metadata": {},
   "outputs": [],
   "source": [
    "# from sklearn.model_selection import train_test_split\n",
    "# We don't use above library Because:\n",
    "    # this is time series data (stock prices), maintaining chronological order is critical to avoid data leakage.\n",
    "    # Instead, we manually split the data using iloc to preserve the time-based structure.\n",
    "\n",
    "\n",
    "# Filteting Model 1 ( AAPL only ) and Model 2 ( AAPL + others )\n",
    "# using copy method to avoid unintended changes\n",
    "model_1_data = df[df['symbol'] == 'AAPL'].copy()\n",
    "model_2_data = df.copy()\n",
    "\n",
    "#Dropping unnecessary columns \n",
    "drop_cols = ['symbol', 'next_close', 'date', 'open', 'close', 'volume'] # these colums are not featyres for our models\n",
    "model_1_data = model_1_data.drop(columns=drop_cols)\n",
    "model_2_data = model_2_data.drop(columns=drop_cols)\n",
    "\n",
    "# Chronologically splitting data into train and test sets( 80% train, 20% test )\n",
    "# We don't use sklearn's train_test_split because we want to keep the chronological order because it shuffles the data\n",
    "\n",
    "#Model 1 (APPL Only)\n",
    "model_1_split_index = int(len(model_1_data) * 0.8) # 80% index for train set\n",
    "model_1_train = model_1_data.iloc[:model_1_split_index] # 80% of rows for train set\n",
    "model_1_test = model_1_data.iloc[model_1_split_index:] # 20% of rows for test set\n",
    "\n",
    "#Model 2 (APPL + Others)\n",
    "model_2_split_index = int(len(model_2_data) * 0.8) # 80% index for train set\n",
    "model_2_train = model_2_data.iloc[:model_2_split_index] # 80% of rows for train set\n",
    "model_2_test = model_2_data.iloc[model_2_split_index:] # 20% of rows for test set\n",
    "\n",
    "# separating features (x) and target (y)\n",
    "# The model will learn from features (x) to predict the binary target (y)\n",
    "\n",
    "# Model 1\n",
    "x__train_1 = model_1_train.drop(columns='target') # Features input for training (daily_change, volume_change, rolling_close_mean, rolling_volume_mean are independent variables)\n",
    "y__train_1 = model_1_train['target'] # output for training (dependent variable (0 or 1))\n",
    "x__test_1 = model_1_test.drop(columns='target')\n",
    "y__test_1 = model_1_test['target']\n",
    "\n",
    "# Model 2\n",
    "x__train_2 = model_2_train.drop(columns='target') # Features input for training (daily_change, volume_change, rolling_close_mean, rolling_volume_mean are independent variables)\n",
    "y__train_2 = model_2_train['target']\n",
    "x__test_2 = model_2_test.drop(columns='target')\n",
    "y__test_2 = model_2_test['target']\n",
    "\n",
    "# The shapes of eac dataset\n",
    "print('Model 1 ( AAPL only ):')\n",
    "print(f'Training set: {x__train_1.shape}, Testing set: {x__test_1.shape}')\n",
    "print('Model 2 ( AAPL + Others ):')\n",
    "print(f'Training set: {x__train_2.shape}, Testing set: {x__test_2.shape}')"
   ]
  },
  {
   "cell_type": "markdown",
   "metadata": {},
   "source": [
    "## Models Implementation"
   ]
  },
  {
   "cell_type": "code",
   "execution_count": null,
   "metadata": {},
   "outputs": [],
   "source": [
    "# Model 1: AAPL only\n",
    "scaler1 = StandardScaler()\n",
    "x_train_1_scaled = scaler1.fit_transform(x__train_1)\n",
    "x_test_1_scaled = scaler1.transform(x__test_1)\n",
    "\n",
    "clf1 = LogisticRegression(max_iter=1000)\n",
    "clf1.fit(x_train_1_scaled, y__train_1)\n",
    "y_prediction_1 = clf1.predict(x_test_1_scaled)\n",
    "\n",
    "print(accuracy_score(y__test_1, y_prediction_1))\n",
    "print(classification_report(y__test_1, y_prediction_1))\n",
    "\n",
    "\n",
    "# Model 2: 10 IT sector companies\n",
    "scaler2 = StandardScaler()\n",
    "x_train_2_scaled = scaler2.fit_transform(x__train_2)\n",
    "x_test_2_scaled = scaler2.transform(x__test_2)\n",
    "\n",
    "clf2 = LogisticRegression(max_iter=1000)\n",
    "clf2.fit(x_train_2_scaled, y__train_2)\n",
    "y_prediction_2 = clf2.predict(x_test_2_scaled)\n",
    "\n",
    "print(accuracy_score(y__test_2, y_prediction_2))\n",
    "print(classification_report(y__test_2, y_prediction_2))"
   ]
  },
  {
   "cell_type": "markdown",
   "metadata": {},
   "source": [
    "### Models Evaluation"
   ]
  },
  {
   "cell_type": "code",
   "execution_count": null,
   "metadata": {},
   "outputs": [],
   "source": [
    "def evaluate_model(y_true, y_pred, model_name):\n",
    "    # Overall percentage of correct predictions\n",
    "    print(\"Accuracy:\", round(accuracy_score(y_true, y_pred), 4))\n",
    "\n",
    "    # Precision when the model predicts 'Up' (class 1)\n",
    "    print(\"Precision (Up):\", round(precision_score(y_true, y_pred), 4))\n",
    "\n",
    "    # Precision when the model predicts 'Down' (class 0)\n",
    "    print(\"Precision (Down):\", round(precision_score(y_true, y_pred, pos_label=0), 4))\n",
    "\n",
    "    # Average of precision for both 'Up' and 'Down' (macro = unweighted average)\n",
    "    print(\"Precision (Macro Average):\", round(precision_score(y_true, y_pred, average='macro'), 4))\n",
    "\n",
    "    # Recall for 'Up' class: how well model catches actual Up days\n",
    "    print(\"Recall (Up):\", round(recall_score(y_true, y_pred), 4))\n",
    "\n",
    "    # Recall for 'Down' class: how well model catches actual Down days\n",
    "    print(\"Recall (Down):\", round(recall_score(y_true, y_pred, pos_label=0), 4))\n",
    "\n",
    "    # Average of recall for both classes\n",
    "    print(\"Recall (Macro Average):\", round(recall_score(y_true, y_pred, average='macro'), 4))\n",
    "\n",
    "    # F1 Score for 'Up': balance between precision and recall\n",
    "    print(\"F1 Score (Up):\", round(f1_score(y_true, y_pred), 4))\n",
    "\n",
    "    # F1 Score for 'Down'\n",
    "    print(\"F1 Score (Down):\", round(f1_score(y_true, y_pred, pos_label=0), 4))\n",
    "\n",
    "    # Average F1 score across both classes\n",
    "    print(\"F1 Score (Macro Average):\", round(f1_score(y_true, y_pred, average='macro'), 4))\n",
    "\n",
    "# Evaluate both models\n",
    "evaluate_model(y__test_1, y_prediction_1, \"Model 1 (AAPL Only)\")\n",
    "evaluate_model(y__test_2, y_prediction_2, \"Model 2 (AAPL + Others)\")"
   ]
  },
  {
   "cell_type": "code",
   "execution_count": null,
   "metadata": {},
   "outputs": [],
   "source": [
    "# Simulated accuracy scores based on previous confusion matrices\n",
    "accuracy_model1 = accuracy_score(y__test_1, y_prediction_1)\n",
    "accuracy_model2 = accuracy_score(y__test_2, y_prediction_2)\n",
    "\n",
    "# Data for the bar plot\n",
    "model_names = ['Model 1 (AAPL Only)', 'Model 2 (AAPL + Others)']\n",
    "accuracies = [accuracy_model1, accuracy_model2]\n",
    "\n",
    "# Create bar chart\n",
    "plt.figure(figsize=(7, 5))\n",
    "bars = plt.bar(model_names, accuracies, color=['steelblue', 'seagreen'])\n",
    "\n",
    "# Add text labels with percentage above each bar\n",
    "for bar in bars:\n",
    "    height = bar.get_height()\n",
    "    plt.text(bar.get_x() + bar.get_width()/2, height + 0.01, f\"{height:.2%}\", ha='center', fontsize=12)\n",
    "\n",
    "# Set chart details\n",
    "plt.ylim(0, 1)\n",
    "plt.ylabel('Accuracy')\n",
    "plt.title('Accuracy Comparison Between Model 1 and Model 2')\n",
    "plt.grid(axis='y', linestyle='--', alpha=0.6)\n",
    "\n",
    "plt.tight_layout()\n",
    "plt.show()\n"
   ]
  },
  {
   "cell_type": "code",
   "execution_count": null,
   "metadata": {},
   "outputs": [],
   "source": [
    "# Get predicted probabilities (no re-fitting needed!)\n",
    "proba_1 = clf1.predict_proba(x_test_1_scaled)[:, 1]\n",
    "proba_2 = clf2.predict_proba(x_test_2_scaled)[:, 1]\n",
    "\n",
    "# Calculate ROC curve data\n",
    "fpr1, tpr1, _ = roc_curve(y__test_1, proba_1)\n",
    "fpr2, tpr2, _ = roc_curve(y__test_2, proba_2)\n",
    "\n",
    "# Calculate AUCs\n",
    "auc_1 = round(roc_auc_score(y__test_1, proba_1), 4)\n",
    "auc_2 = round(roc_auc_score(y__test_2, proba_2), 4)\n",
    "\n",
    "# Print AUCs\n",
    "print(\"AUC for Model 1 (AAPL):\", auc_1)\n",
    "print(\"AUC for Model 2 (All IT):\", auc_2)\n",
    "\n",
    "# Plot ROC curves\n",
    "plt.figure(figsize=(8, 6))\n",
    "plt.plot(fpr1, tpr1, label=f\"Model 1 (AAPL) - AUC = {auc_1}\")\n",
    "plt.plot(fpr2, tpr2, label=f\"Model 2 (All IT) - AUC = {auc_2}\")\n",
    "plt.plot([0, 1], [0, 1], linestyle=\"--\", color=\"gray\")\n",
    "plt.xlabel(\"False Positive Rate\")\n",
    "plt.ylabel(\"True Positive Rate\")\n",
    "plt.title(\"ROC Curve Comparison\")\n",
    "plt.legend()\n",
    "plt.grid(True)\n",
    "plt.show()\n",
    "\n",
    "\n"
   ]
  },
  {
   "cell_type": "code",
   "execution_count": null,
   "metadata": {},
   "outputs": [],
   "source": [
    "# Compute confusion matrices\n",
    "cm_model1 = confusion_matrix(y__test_1, y_prediction_1)\n",
    "cm_model2 = confusion_matrix(y__test_2, y_prediction_2)\n",
    "\n",
    "# Create a single figure with two subplots\n",
    "fig, axes = plt.subplots(1, 2, figsize=(12, 5))\n",
    "\n",
    "# Plot Model 1 Confusion Matrix\n",
    "disp1 = ConfusionMatrixDisplay(confusion_matrix=cm_model1, display_labels=[0, 1])\n",
    "disp1.plot(ax=axes[0], cmap='Blues', colorbar=False)\n",
    "axes[0].set_title('Model 1: Confusion Matrix (Raw Counts)')\n",
    "axes[0].set_xlabel('Predicted Label')\n",
    "axes[0].set_ylabel('True Label')\n",
    "\n",
    "# Plot Model 2 Confusion Matrix\n",
    "disp2 = ConfusionMatrixDisplay(confusion_matrix=cm_model2, display_labels=[0, 1])\n",
    "disp2.plot(ax=axes[1], cmap='Greens', colorbar=False)\n",
    "axes[1].set_title('Model 2: Confusion Matrix (Raw Counts)')\n",
    "axes[1].set_xlabel('Predicted Label')\n",
    "axes[1].set_ylabel('True Label')\n",
    "\n",
    "# Adjust layout\n",
    "plt.tight_layout()\n",
    "plt.show()\n"
   ]
  }
 ],
 "metadata": {
  "kernelspec": {
   "display_name": "proj_stock",
   "language": "python",
   "name": "python3"
  },
  "language_info": {
   "codemirror_mode": {
    "name": "ipython",
    "version": 3
   },
   "file_extension": ".py",
   "mimetype": "text/x-python",
   "name": "python",
   "nbconvert_exporter": "python",
   "pygments_lexer": "ipython3",
   "version": "3.10.16"
  }
 },
 "nbformat": 4,
 "nbformat_minor": 2
}
